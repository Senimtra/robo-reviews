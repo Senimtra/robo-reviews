{
 "cells": [
  {
   "cell_type": "markdown",
   "metadata": {},
   "source": [
    "# Dataset Cleaning"
   ]
  },
  {
   "cell_type": "markdown",
   "metadata": {},
   "source": [
    "### Games Categories"
   ]
  },
  {
   "cell_type": "code",
   "execution_count": null,
   "metadata": {},
   "outputs": [],
   "source": [
    "# Source datasets required to rerun notebooks are not included in the repo due to size constraints.\n",
    "# Dataset URL: https://amazon-reviews-2023.github.io/ << Video_Games\n",
    "\n",
    "# Note: Data cleaning notebooks must be run sequentially (1, 2, 3)."
   ]
  },
  {
   "cell_type": "code",
   "execution_count": null,
   "metadata": {},
   "outputs": [],
   "source": [
    "# Added common game-categories to enhance the dataset. \n",
    "# Those categories were retrieved using the ChatGPT API."
   ]
  },
  {
   "cell_type": "code",
   "execution_count": null,
   "metadata": {},
   "outputs": [],
   "source": [
    "# Imports\n",
    "\n",
    "import time\n",
    "import dotenv\n",
    "import openai\n",
    "import pandas as pd"
   ]
  },
  {
   "cell_type": "code",
   "execution_count": null,
   "metadata": {},
   "outputs": [],
   "source": [
    "# Set OpenAI API key\n",
    "\n",
    "openai.api_key = dotenv.get_key('../.env', 'OPENAI_API_KEY')\n",
    "\n",
    "print('Key:', openai.api_key and True)"
   ]
  },
  {
   "cell_type": "code",
   "execution_count": null,
   "metadata": {},
   "outputs": [],
   "source": [
    "# Load game meta data\n",
    "\n",
    "meta_data = pd.read_csv('../data/meta_cleaned.csv')\n",
    "\n",
    "meta_data.sample()"
   ]
  },
  {
   "cell_type": "code",
   "execution_count": null,
   "metadata": {},
   "outputs": [],
   "source": [
    "# Retrieve game categories from the web\n",
    "\n",
    "def get_game_genre(game_name):\n",
    "    game_genres = ['Action', 'Adventure', 'Role-Playing', 'Simulation', \n",
    "               'Strategy', 'Sports', 'Puzzle', 'Fighting', 'Shooter', \n",
    "               'Horror', 'Platformer', 'Racing', 'MMORPG', 'Idle', \n",
    "               'Sandbox', 'Survival', 'Battle Royale', 'Rhythm', \n",
    "               'Party', 'Card Game', 'MOBA', 'Stealth', 'Visual Novel', \n",
    "               'Text-Based', 'Tycoon', 'Compilation']\n",
    "\n",
    "    prompt = f\"\"\"\n",
    "\tClassify the game '{game_name}' into the \n",
    "    most suitable genre from this list: {game_genres}.\n",
    "\tProvide only the name of the chosen genre as your response.\n",
    "\t\"\"\"\n",
    "\n",
    "    # Make the API call to OpenAI\n",
    "    response = openai.chat.completions.create(\n",
    "        model = 'gpt-4',\n",
    "        messages = [{'role': 'user', 'content': prompt}],\n",
    "        max_tokens = 10,\n",
    "        temperature = 0\n",
    "    )\n",
    "\n",
    "    # Extract the response\n",
    "    genre = response.choices[0].message.content.strip()\n",
    "    \n",
    "    return (game_name, genre)\n",
    "\n",
    "game_titles = []\n",
    "\n",
    "game_categories = []\n",
    "\n",
    "for title in game_titles:\n",
    "    print('Processing:', title)\n",
    "    category = get_game_genre(title)\n",
    "    game_categories.append(category)\n",
    "    time.sleep(3)"
   ]
  },
  {
   "cell_type": "code",
   "execution_count": null,
   "metadata": {},
   "outputs": [],
   "source": [
    "# Load retrieved game categories\n",
    "\n",
    "categories = pd.read_csv('../data/cats_enriched.csv')\n",
    "\n",
    "categories.head()"
   ]
  },
  {
   "cell_type": "code",
   "execution_count": null,
   "metadata": {},
   "outputs": [],
   "source": [
    "meta_data.shape, categories.shape"
   ]
  },
  {
   "cell_type": "code",
   "execution_count": null,
   "metadata": {},
   "outputs": [],
   "source": [
    "# Removing duplicates in both dataframes\n",
    "\n",
    "print(meta_data['title'].duplicated().sum())  # Check duplicates in meta_data\n",
    "print(categories['title'].duplicated().sum())  # Check duplicates in categories"
   ]
  },
  {
   "cell_type": "code",
   "execution_count": null,
   "metadata": {},
   "outputs": [],
   "source": [
    "meta_data = meta_data.drop_duplicates(subset = 'title')\n",
    "categories = categories.drop_duplicates(subset = 'title')\n",
    "\n",
    "meta_data.shape, categories.shape"
   ]
  },
  {
   "cell_type": "code",
   "execution_count": null,
   "metadata": {},
   "outputs": [],
   "source": [
    "# Join retrieved game categories\n",
    "\n",
    "meta_data = meta_data.merge(categories[['title', 'category']], on = 'title', how = 'left')\n",
    "\n",
    "meta_data.sample()"
   ]
  },
  {
   "cell_type": "code",
   "execution_count": null,
   "metadata": {},
   "outputs": [],
   "source": [
    "# Action, Adventure, Role-Playing, Simulation, Strategy, Sports, Puzzle, Fighting,\n",
    "# Shooter, Horror, Platformer, Racing, MMORPG, Idle, Sandbox, Survival, Battle Royale, \n",
    "# Rhythm, Party, Card Game, MOBA, Stealth, Visual Novel, Text-Based, Tycoon, Compilation\n",
    "\n",
    "main_categories = ['Action', 'Adventure', 'Role-Playing', 'Simulation', 'Strategy', 'Sports', \n",
    "                   'Puzzle', 'Fighting', 'Shooter', 'Horror', 'Platformer', 'Racing', 'MMORPG', \n",
    "                   'Idle', 'Sandbox', 'Survival', 'Battle Royale', 'Rhythm', 'Party', 'Card Game', \n",
    "                   'MOBA', 'Stealth', 'Visual Novel', 'Text-Based', 'Tycoon', 'Compilation']\n",
    "\n",
    "cat_check = list(meta_data['category'].unique())\n",
    "\n",
    "for cat in cat_check:\n",
    "    if cat not in main_categories:\n",
    "        print(cat)\n"
   ]
  },
  {
   "cell_type": "code",
   "execution_count": null,
   "metadata": {},
   "outputs": [],
   "source": [
    "# Reassign \"Open Country - Xbox One would be classified as a 'Survival' game.\"\n",
    "\n",
    "meta_data[meta_data['category'] == \"Open Country - Xbox One would be classified as a 'Survival' game.\"]"
   ]
  },
  {
   "cell_type": "code",
   "execution_count": null,
   "metadata": {},
   "outputs": [],
   "source": [
    "meta_data.loc[231, 'category'] = 'Survival'"
   ]
  },
  {
   "cell_type": "code",
   "execution_count": null,
   "metadata": {},
   "outputs": [],
   "source": [
    "# Reassign 'Adult Visual Novel'\n",
    "\n",
    "meta_data[meta_data['category'] == 'Adult Visual Novel']"
   ]
  },
  {
   "cell_type": "code",
   "execution_count": null,
   "metadata": {},
   "outputs": [],
   "source": [
    "meta_data.loc[838, 'category'] = 'Visual Novel'"
   ]
  },
  {
   "cell_type": "code",
   "execution_count": null,
   "metadata": {},
   "outputs": [],
   "source": [
    "# Reassign 'Educational'\n",
    "\n",
    "meta_data[meta_data['category'] == 'Educational']"
   ]
  },
  {
   "cell_type": "code",
   "execution_count": null,
   "metadata": {},
   "outputs": [],
   "source": [
    "meta_data.loc[859, 'category'] = 'Party'"
   ]
  },
  {
   "cell_type": "code",
   "execution_count": null,
   "metadata": {},
   "outputs": [],
   "source": [
    "# Reassign 'Exploration'\n",
    "\n",
    "meta_data[meta_data['category'] == 'Exploration']"
   ]
  },
  {
   "cell_type": "code",
   "execution_count": null,
   "metadata": {},
   "outputs": [],
   "source": [
    "meta_data.loc[1158, 'category'] = 'Adventure'"
   ]
  },
  {
   "cell_type": "code",
   "execution_count": null,
   "metadata": {},
   "outputs": [],
   "source": [
    "# Reassign 'Metroidvania'\n",
    "\n",
    "meta_data[meta_data['category'] == 'Metroidvania']"
   ]
  },
  {
   "cell_type": "code",
   "execution_count": null,
   "metadata": {},
   "outputs": [],
   "source": [
    "meta_data.loc[[1411, 2462], 'category'] = 'Platformer'"
   ]
  },
  {
   "cell_type": "code",
   "execution_count": null,
   "metadata": {},
   "outputs": [],
   "source": [
    "# Reassign 'Electronic Games'\n",
    "\n",
    "meta_data[meta_data['category'] == 'Electronic Games']"
   ]
  },
  {
   "cell_type": "code",
   "execution_count": null,
   "metadata": {},
   "outputs": [],
   "source": [
    "meta_data = meta_data.drop(index = [1862, 2584])  # Hardware items"
   ]
  },
  {
   "cell_type": "code",
   "execution_count": null,
   "metadata": {},
   "outputs": [],
   "source": [
    "# Reassign 'Exploration / Sandbox'\n",
    "\n",
    "meta_data[meta_data['category'] == 'Exploration / Sandbox']"
   ]
  },
  {
   "cell_type": "code",
   "execution_count": null,
   "metadata": {},
   "outputs": [],
   "source": [
    "meta_data.loc[2340, 'category'] = 'Adventure'"
   ]
  },
  {
   "cell_type": "code",
   "execution_count": null,
   "metadata": {},
   "outputs": [],
   "source": [
    "# Reassign 'Co-op Action Adventure'\n",
    "\n",
    "meta_data[meta_data['category'] == 'Co-op Action Adventure']"
   ]
  },
  {
   "cell_type": "code",
   "execution_count": null,
   "metadata": {},
   "outputs": [],
   "source": [
    "meta_data.loc[2626, 'category'] = 'Adventure'\n",
    "\n",
    "meta_data.shape"
   ]
  },
  {
   "cell_type": "code",
   "execution_count": null,
   "metadata": {},
   "outputs": [],
   "source": [
    "# Reset index\n",
    "\n",
    "meta_data.reset_index(drop = True)\n",
    "\n",
    "# Saving the enriched game meta data\n",
    "\n",
    "meta_data.to_csv('../data/meta_cleaned.csv', index = False)"
   ]
  }
 ],
 "metadata": {
  "kernelspec": {
   "display_name": "Python 3",
   "language": "python",
   "name": "python3"
  },
  "language_info": {
   "codemirror_mode": {
    "name": "ipython",
    "version": 3
   },
   "file_extension": ".py",
   "mimetype": "text/x-python",
   "name": "python",
   "nbconvert_exporter": "python",
   "pygments_lexer": "ipython3",
   "version": "3.12.7"
  }
 },
 "nbformat": 4,
 "nbformat_minor": 2
}
