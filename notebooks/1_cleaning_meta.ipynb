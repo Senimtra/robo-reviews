{
 "cells": [
  {
   "cell_type": "markdown",
   "metadata": {},
   "source": [
    "# Dataset Cleaning"
   ]
  },
  {
   "cell_type": "markdown",
   "metadata": {},
   "source": [
    "### Games Meta Data"
   ]
  },
  {
   "cell_type": "code",
   "execution_count": null,
   "metadata": {},
   "outputs": [],
   "source": [
    "# Source datasets required to rerun notebooks are not included in the repo due to size constraints.\n",
    "# Dataset URL: https://amazon-reviews-2023.github.io/ << Video_Games\n",
    "\n",
    "# Note: Data cleaning notebooks must be run sequentially (1, 2, 3)."
   ]
  },
  {
   "cell_type": "code",
   "execution_count": null,
   "metadata": {},
   "outputs": [],
   "source": [
    "# Cleaning 137.269 games data aggressively to reduce size\n",
    "# Strict handling of missing data to retain high-quality entries"
   ]
  },
  {
   "cell_type": "code",
   "execution_count": null,
   "metadata": {},
   "outputs": [],
   "source": [
    "# Imports\n",
    "\n",
    "import pandas as pd"
   ]
  },
  {
   "cell_type": "code",
   "execution_count": null,
   "metadata": {},
   "outputs": [],
   "source": [
    "# Reset to show all columns + rows\n",
    "\n",
    "pd.reset_option('display.max_columns')\n",
    "pd.reset_option('display.max_rows')"
   ]
  },
  {
   "cell_type": "markdown",
   "metadata": {},
   "source": [
    "### Data Exploration"
   ]
  },
  {
   "cell_type": "code",
   "execution_count": null,
   "metadata": {},
   "outputs": [],
   "source": [
    "games_data = pd.read_json('../data/video_games_data.jsonl', lines = True)\n",
    "\n",
    "games_data.shape"
   ]
  },
  {
   "cell_type": "code",
   "execution_count": null,
   "metadata": {},
   "outputs": [],
   "source": [
    "games_data.sample()"
   ]
  },
  {
   "cell_type": "code",
   "execution_count": null,
   "metadata": {},
   "outputs": [],
   "source": [
    "games_data.columns"
   ]
  },
  {
   "cell_type": "code",
   "execution_count": null,
   "metadata": {},
   "outputs": [],
   "source": [
    "games_data.head(1)"
   ]
  },
  {
   "cell_type": "code",
   "execution_count": null,
   "metadata": {},
   "outputs": [],
   "source": [
    "games_data.main_category.value_counts()"
   ]
  },
  {
   "cell_type": "markdown",
   "metadata": {},
   "source": [
    "### Data Cleaning"
   ]
  },
  {
   "cell_type": "code",
   "execution_count": null,
   "metadata": {},
   "outputs": [],
   "source": [
    "# Keep only 'Video Games'\n",
    "\n",
    "games_data = games_data[games_data['main_category'] == 'Video Games']\n",
    "\n",
    "# Drop 'main_category' column\n",
    "\n",
    "games_data.drop('main_category', axis = 1, inplace = True)\n",
    "\n",
    "games_data.shape"
   ]
  },
  {
   "cell_type": "code",
   "execution_count": null,
   "metadata": {},
   "outputs": [],
   "source": [
    "games_data.sample()"
   ]
  },
  {
   "cell_type": "code",
   "execution_count": null,
   "metadata": {},
   "outputs": [],
   "source": [
    "# Verify that all games have unique entries\n",
    "\n",
    "len(games_data['parent_asin'].unique())"
   ]
  },
  {
   "cell_type": "code",
   "execution_count": null,
   "metadata": {},
   "outputs": [],
   "source": [
    "games_data['author'].isna().sum()"
   ]
  },
  {
   "cell_type": "code",
   "execution_count": null,
   "metadata": {},
   "outputs": [],
   "source": [
    "# Drop column 'author' because all its values are NaN\n",
    "\n",
    "games_data.drop('author', axis = 1, inplace = True)\n",
    "\n",
    "games_data.shape"
   ]
  },
  {
   "cell_type": "code",
   "execution_count": null,
   "metadata": {},
   "outputs": [],
   "source": [
    "games_data.subtitle.isna().sum()"
   ]
  },
  {
   "cell_type": "code",
   "execution_count": null,
   "metadata": {},
   "outputs": [],
   "source": [
    "# Drop column 'subtitle' because all its values are NaN\n",
    "\n",
    "games_data.drop('subtitle', axis = 1, inplace = True)\n",
    "\n",
    "games_data.shape"
   ]
  },
  {
   "cell_type": "code",
   "execution_count": null,
   "metadata": {},
   "outputs": [],
   "source": [
    "games_data.bought_together.isna().sum()"
   ]
  },
  {
   "cell_type": "code",
   "execution_count": null,
   "metadata": {},
   "outputs": [],
   "source": [
    "# Drop column 'bought_together' because all its values are NaN\n",
    "\n",
    "games_data.drop('bought_together', axis = 1, inplace = True)\n",
    "\n",
    "games_data.shape"
   ]
  },
  {
   "cell_type": "code",
   "execution_count": null,
   "metadata": {},
   "outputs": [],
   "source": [
    "games_data.videos.value_counts()"
   ]
  },
  {
   "cell_type": "code",
   "execution_count": null,
   "metadata": {},
   "outputs": [],
   "source": [
    "# Count rows without 'videos'\n",
    "\n",
    "empty_videos_count = games_data['videos'].apply(lambda x: x == []).sum()\n",
    "\n",
    "print('No video provided:', empty_videos_count)"
   ]
  },
  {
   "cell_type": "code",
   "execution_count": null,
   "metadata": {},
   "outputs": [],
   "source": [
    "# Drop 'videos' due to insufficient data\n",
    "\n",
    "games_data.drop('videos', axis = 1, inplace = True)\n",
    "\n",
    "games_data.shape"
   ]
  },
  {
   "cell_type": "code",
   "execution_count": null,
   "metadata": {},
   "outputs": [],
   "source": [
    "games_data.sample()"
   ]
  },
  {
   "cell_type": "code",
   "execution_count": null,
   "metadata": {},
   "outputs": [],
   "source": [
    "games_data.rating_number.value_counts()"
   ]
  },
  {
   "cell_type": "code",
   "execution_count": null,
   "metadata": {},
   "outputs": [],
   "source": [
    "# Rating Thresholding\n",
    "\n",
    "games_data = games_data[games_data['rating_number'] >= 100]\n",
    "\n",
    "games_data.shape"
   ]
  },
  {
   "cell_type": "code",
   "execution_count": null,
   "metadata": {},
   "outputs": [],
   "source": [
    "games_data.description.value_counts()"
   ]
  },
  {
   "cell_type": "code",
   "execution_count": null,
   "metadata": {},
   "outputs": [],
   "source": [
    "# Count rows without 'description'\n",
    "\n",
    "empty_description = games_data['description'].apply(lambda x: x == []).sum()\n",
    "\n",
    "print('No description provided:', empty_description)"
   ]
  },
  {
   "cell_type": "code",
   "execution_count": null,
   "metadata": {},
   "outputs": [],
   "source": [
    "# Removing games without description\n",
    "\n",
    "games_data = games_data[games_data['description'].apply(lambda x: x != [])]\n",
    "\n",
    "games_data.shape"
   ]
  },
  {
   "cell_type": "code",
   "execution_count": null,
   "metadata": {},
   "outputs": [],
   "source": [
    "games_data.columns"
   ]
  },
  {
   "cell_type": "code",
   "execution_count": null,
   "metadata": {},
   "outputs": [],
   "source": [
    "games_data.features.value_counts()"
   ]
  },
  {
   "cell_type": "code",
   "execution_count": null,
   "metadata": {},
   "outputs": [],
   "source": [
    "# Count rows without 'features'\n",
    "\n",
    "empty_features = games_data['features'].apply(lambda x: x == []).sum()\n",
    "\n",
    "print('No features provided:', empty_features)"
   ]
  },
  {
   "cell_type": "code",
   "execution_count": null,
   "metadata": {},
   "outputs": [],
   "source": [
    "# Removing games without features\n",
    "\n",
    "games_data = games_data[games_data['features'].apply(lambda x: x != [])]\n",
    "\n",
    "games_data.shape"
   ]
  },
  {
   "cell_type": "code",
   "execution_count": null,
   "metadata": {},
   "outputs": [],
   "source": [
    "games_data.sample()"
   ]
  },
  {
   "cell_type": "code",
   "execution_count": null,
   "metadata": {},
   "outputs": [],
   "source": [
    "games_data.sample()['images']"
   ]
  },
  {
   "cell_type": "code",
   "execution_count": null,
   "metadata": {},
   "outputs": [],
   "source": [
    "# Function to only keep first image URL\n",
    "\n",
    "def extract_first_url(images_string):\n",
    "    try:\n",
    "        # Access the first dictionary\n",
    "        images_list = images_string[0]\n",
    "        \n",
    "        # Return the 'large' URL if available\n",
    "        return images_list['large']\n",
    "        \n",
    "    except (ValueError, IndexError):\n",
    "        return None  # Handle malformed data gracefully\n",
    "\n",
    "games_data['images'] = games_data['images'].apply(extract_first_url)\n",
    "\n",
    "games_data['images'].value_counts()"
   ]
  },
  {
   "cell_type": "code",
   "execution_count": null,
   "metadata": {},
   "outputs": [],
   "source": [
    "games_data.isna().sum()"
   ]
  },
  {
   "cell_type": "code",
   "execution_count": null,
   "metadata": {},
   "outputs": [],
   "source": [
    "games_data.shape"
   ]
  },
  {
   "cell_type": "code",
   "execution_count": null,
   "metadata": {},
   "outputs": [],
   "source": [
    "# Remove games without store\n",
    "# Remove games without price\n",
    "\n",
    "games_data = games_data[~games_data['store'].isna()]\n",
    "games_data = games_data[~games_data['price'].isna()]\n",
    "\n",
    "games_data.shape"
   ]
  },
  {
   "cell_type": "code",
   "execution_count": null,
   "metadata": {},
   "outputs": [],
   "source": [
    "games_data.sample()"
   ]
  },
  {
   "cell_type": "code",
   "execution_count": null,
   "metadata": {},
   "outputs": [],
   "source": [
    "# Remove 'average_rating' and 'rating_number'\n",
    "# This information is found in the reviews table\n",
    "\n",
    "games_data.drop(columns = ['average_rating', 'rating_number'], inplace = True)\n",
    "\n",
    "games_data.shape"
   ]
  },
  {
   "cell_type": "code",
   "execution_count": null,
   "metadata": {},
   "outputs": [],
   "source": [
    "# Show sample details entries\n",
    "\n",
    "games_data.sample()['details'].iloc[0]"
   ]
  },
  {
   "cell_type": "code",
   "execution_count": null,
   "metadata": {},
   "outputs": [],
   "source": [
    "# Get 'details' -> 'Type of item' distribution\n",
    "\n",
    "item_types_count = {}\n",
    "\n",
    "def types_count(row):\n",
    "    value = row.get('Type of item')\n",
    "    if value in item_types_count.keys():\n",
    "        item_types_count[value] += 1\n",
    "    else:\n",
    "        item_types_count[value] = 0\n",
    "\n",
    "games_data['details'].apply(types_count)\n",
    "\n",
    "item_types_count"
   ]
  },
  {
   "cell_type": "code",
   "execution_count": null,
   "metadata": {},
   "outputs": [],
   "source": [
    "# Only keep data of type 'Video Game'\n",
    "\n",
    "games_data = games_data[games_data['details'].apply(lambda x: x.get('Type of item') == 'Video Game')]\n",
    "\n",
    "games_data.shape"
   ]
  },
  {
   "cell_type": "code",
   "execution_count": null,
   "metadata": {},
   "outputs": [],
   "source": [
    "# Get 'details' column key distribution\n",
    "\n",
    "details_entries = {}\n",
    "\n",
    "def check_keys(row):\n",
    "    for key in row.keys():\n",
    "        if key in details_entries.keys():\n",
    "            details_entries[key] += 1\n",
    "        else:\n",
    "            details_entries[key] = 0\n",
    "\n",
    "games_data['details'].apply(check_keys)\n",
    "\n",
    "details_entries"
   ]
  },
  {
   "cell_type": "code",
   "execution_count": null,
   "metadata": {},
   "outputs": [],
   "source": [
    "# Only keep ...\n",
    "# 'Release date', 'Type of item', 'Is Discontinued By Manufacturer', \n",
    "# 'Manufacturer', 'Date First Available', 'Language'\n",
    "\n",
    "keep_details = ['Release date', 'Type of item', 'Is Discontinued By Manufacturer', \n",
    "                'Manufacturer', 'Date First Available', 'Language']\n",
    "\n",
    "def remove_detail_keys(row):\n",
    "    # Safely remove keys if they exist\n",
    "    for key in list(row.keys()):\n",
    "        if key not in keep_details:\n",
    "            del row[key]\n",
    "    return row\n",
    "\n",
    "games_data['details'] = games_data['details'].apply(remove_detail_keys)\n",
    "\n",
    "games_data.sample()"
   ]
  },
  {
   "cell_type": "code",
   "execution_count": null,
   "metadata": {},
   "outputs": [],
   "source": [
    "# Show sample 'categories' entries\n",
    "\n",
    "games_data.sample()['categories'].iloc[0]"
   ]
  },
  {
   "cell_type": "code",
   "execution_count": null,
   "metadata": {},
   "outputs": [],
   "source": [
    "# Get 'categories' column key distribution\n",
    "\n",
    "category_entries = {}\n",
    "\n",
    "def get_categories(row):\n",
    "    for key in row:\n",
    "        if key in category_entries:\n",
    "            category_entries[key] += 1\n",
    "        else:\n",
    "            category_entries[key] = 0\n",
    "\n",
    "games_data['categories'].apply(get_categories)\n",
    "\n",
    "category_entries"
   ]
  },
  {
   "cell_type": "code",
   "execution_count": null,
   "metadata": {},
   "outputs": [],
   "source": [
    "# Keep games in main categories only\n",
    "\n",
    "main_cats = ['Video Games', 'PlayStation 4', 'Games', 'PC', 'PlayStation 3', 'Xbox One', 'Nintendo Switch', \n",
    "             'PlayStation', 'PlayStation 2', 'Nintendo DS', 'GameCube', 'Wii', 'Xbox 360', 'Wii U', \n",
    "             'PlayStation 5', 'Nintendo 64', 'Sony PSP', 'Xbox Series X & S', 'Nintendo NES', 'Xbox']\n",
    "\n",
    "def keep_main_categories(row):\n",
    "    for key in row:\n",
    "        if key not in main_cats:\n",
    "            return False\n",
    "    return True\n",
    "\n",
    "print(games_data.shape)\n",
    "\n",
    "games_data = games_data[games_data['categories'].apply(keep_main_categories)]\n",
    "\n",
    "games_data.shape"
   ]
  },
  {
   "cell_type": "code",
   "execution_count": null,
   "metadata": {},
   "outputs": [],
   "source": [
    "# Remove hardware, toys, and accessories\n",
    "\n",
    "games_data.reset_index(drop = True, inplace = True)\n",
    "\n",
    "hw_toys_acc = [22, 29, 30, 54, 101, 109, 131, 221, 261, 305, 309, 312, 345, 347, 388, 399, 425, 452, 459,\n",
    "                496, 527, 535, 545, 558, 567, 579, 590, 607, 614, 652, 658, 661, 666, 673, 684, 692, 695, \n",
    "                718, 731, 752, 761, 770, 772, 784, 824, 828, 898, 904, 936, 941, 946, 963, 970, 1041, 1042, \n",
    "                1045, 1058, 1066, 1085, 1110, 1114, 1142, 1143, 1174, 1180, 1182, 1184, 1197, 1209, 1220, \n",
    "                1229, 1233, 1265, 1270, 1284, 1286, 1374, 1375, 1376, 1410, 1457, 1458, 1482, 1487, 1502, \n",
    "                1504, 1507, 1509, 1516, 1568, 1575, 1632, 1645, 1647, 1662, 1689, 1690, 1691, 1692, 1711, \n",
    "                1717, 1727, 1772, 1778, 1782, 1792, 1799, 1824, 1900, 1959, 1962, 1864, 1970, 2012, 2017, \n",
    "                2027, 2030, 2050, 2074, 2075, 2097, 2100, 2125, 2132, 2133, 2151, 2194, 2218, 2235, 2240, \n",
    "                2255, 2270, 2275, 2293, 2301, 2302, 2309, 2325, 2327, 2333, 2354, 2357, 2374, 2381, 2401, \n",
    "                2415, 2416, 2445, 2446, 2460, 2466, 2472, 2547, 2530, 2587, 2594, 2599, 2600, 2621, 2627, \n",
    "                2628, 2643, 2649, 2667, 2670, 2686, 2704, 2710, 2713, 2717, 2719, 2720, 2724, 2739, 2745, \n",
    "                2771, 2793, 2798, 2801, 2808, 2812, 2816, 2834, 2845, 2861, 2896, 2903, 2936, 2943]\n",
    "\n",
    "games_data = games_data.drop(index = hw_toys_acc)\n",
    "\n",
    "games_data.shape"
   ]
  },
  {
   "cell_type": "markdown",
   "metadata": {},
   "source": [
    "### Save Games Meta Data"
   ]
  },
  {
   "cell_type": "code",
   "execution_count": null,
   "metadata": {},
   "outputs": [],
   "source": [
    "# Reset index\n",
    "\n",
    "games_data.reset_index(drop = True)\n",
    "\n",
    "# Save cleaned games meta data\n",
    "\n",
    "games_data.to_csv('../data/meta_cleaned.csv', index = False)"
   ]
  }
 ],
 "metadata": {
  "kernelspec": {
   "display_name": "Python 3",
   "language": "python",
   "name": "python3"
  },
  "language_info": {
   "codemirror_mode": {
    "name": "ipython",
    "version": 3
   },
   "file_extension": ".py",
   "mimetype": "text/x-python",
   "name": "python",
   "nbconvert_exporter": "python",
   "pygments_lexer": "ipython3",
   "version": "3.12.7"
  }
 },
 "nbformat": 4,
 "nbformat_minor": 2
}
