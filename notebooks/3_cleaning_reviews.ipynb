{
 "cells": [
  {
   "cell_type": "markdown",
   "metadata": {},
   "source": [
    "# Dataset Cleaning"
   ]
  },
  {
   "cell_type": "markdown",
   "metadata": {},
   "source": [
    "### Game Reviews"
   ]
  },
  {
   "cell_type": "code",
   "execution_count": null,
   "metadata": {},
   "outputs": [],
   "source": [
    "# Source datasets required to rerun notebooks are not included in the repo due to size constraints.\n",
    "# Dataset URL: https://amazon-reviews-2023.github.io/ << Video_Games\n",
    "\n",
    "# Note: Data cleaning notebooks must be run sequentially (1, 2, 3)."
   ]
  },
  {
   "cell_type": "code",
   "execution_count": null,
   "metadata": {},
   "outputs": [],
   "source": [
    "# Cleaning 4.624.615 game reviews aggressively to reduce size\n",
    "# Strict handling of missing data to retain high-quality entries"
   ]
  },
  {
   "cell_type": "code",
   "execution_count": null,
   "metadata": {},
   "outputs": [],
   "source": [
    "# Imports\n",
    "\n",
    "import re\n",
    "import pandas as pd"
   ]
  },
  {
   "cell_type": "code",
   "execution_count": null,
   "metadata": {},
   "outputs": [],
   "source": [
    "# Reset to show all columns + rows\n",
    "\n",
    "pd.reset_option('display.max_columns')\n",
    "pd.reset_option('display.max_rows')"
   ]
  },
  {
   "cell_type": "markdown",
   "metadata": {},
   "source": [
    "### Data Exploration"
   ]
  },
  {
   "cell_type": "code",
   "execution_count": null,
   "metadata": {},
   "outputs": [],
   "source": [
    "reviews = pd.read_json('../data/video_games_reviews.jsonl', lines = True)\n",
    "\n",
    "reviews.shape"
   ]
  },
  {
   "cell_type": "code",
   "execution_count": null,
   "metadata": {},
   "outputs": [],
   "source": [
    "reviews.columns"
   ]
  },
  {
   "cell_type": "code",
   "execution_count": null,
   "metadata": {},
   "outputs": [],
   "source": [
    "reviews.sample()"
   ]
  },
  {
   "cell_type": "markdown",
   "metadata": {},
   "source": [
    "### Data Cleaning"
   ]
  },
  {
   "cell_type": "code",
   "execution_count": null,
   "metadata": {},
   "outputs": [],
   "source": [
    "# Ensure only main products are retained\n",
    "\n",
    "reviews = reviews[reviews['parent_asin'] == reviews['asin']]\n",
    "\n",
    "reviews.shape"
   ]
  },
  {
   "cell_type": "code",
   "execution_count": null,
   "metadata": {},
   "outputs": [],
   "source": [
    "# Keep reviews only for games with available metadata\n",
    "\n",
    "asins_meta = pd.read_csv('../data/meta_cleaned.csv')['parent_asin']\n",
    "\n",
    "reviews = reviews[reviews['asin'].isin(asins_meta)]\n",
    "\n",
    "reviews.shape"
   ]
  },
  {
   "cell_type": "code",
   "execution_count": null,
   "metadata": {},
   "outputs": [],
   "source": [
    "# Drop 'asin' since it now matches 'parent_asin'\n",
    "\n",
    "reviews = reviews.drop('asin', axis = 1)\n",
    "\n",
    "reviews.columns"
   ]
  },
  {
   "cell_type": "code",
   "execution_count": null,
   "metadata": {},
   "outputs": [],
   "source": [
    "reviews.sample()"
   ]
  },
  {
   "cell_type": "code",
   "execution_count": null,
   "metadata": {},
   "outputs": [],
   "source": [
    "reviews.images.value_counts()"
   ]
  },
  {
   "cell_type": "code",
   "execution_count": null,
   "metadata": {},
   "outputs": [],
   "source": [
    "# Count rows without 'images'\n",
    "\n",
    "empty_images_count = reviews['images'].apply(lambda x: x == []).sum()\n",
    "\n",
    "print('No images provided:', empty_images_count)"
   ]
  },
  {
   "cell_type": "code",
   "execution_count": null,
   "metadata": {},
   "outputs": [],
   "source": [
    "# Drop 'images' due to insufficient data\n",
    "\n",
    "reviews.drop('images', axis = 1, inplace = True)\n",
    "\n",
    "reviews.shape"
   ]
  },
  {
   "cell_type": "code",
   "execution_count": null,
   "metadata": {},
   "outputs": [],
   "source": [
    "reviews.sample()"
   ]
  },
  {
   "cell_type": "code",
   "execution_count": null,
   "metadata": {},
   "outputs": [],
   "source": [
    "# Remove duplicate game reviews\n",
    "\n",
    "reviews.drop_duplicates(inplace = True)\n",
    "\n",
    "reviews.shape"
   ]
  },
  {
   "cell_type": "code",
   "execution_count": null,
   "metadata": {},
   "outputs": [],
   "source": [
    "reviews.verified_purchase.value_counts()"
   ]
  },
  {
   "cell_type": "code",
   "execution_count": null,
   "metadata": {},
   "outputs": [],
   "source": [
    "# Remove unverified_purchases\n",
    "\n",
    "reviews = reviews[reviews['verified_purchase']]\n",
    "\n",
    "reviews.shape"
   ]
  },
  {
   "cell_type": "code",
   "execution_count": null,
   "metadata": {},
   "outputs": [],
   "source": [
    "# Filter reviews\n",
    "\n",
    "filter_hardware = ['controler', 'controller', 'blu-Ray', 'card game', 'stick drift', 'battery', 'batteries', \n",
    "                   'slight wear', 'cable', 'usb', 'adapter', 'plastic piece', ' mic ', 'router', \n",
    "                   'device', 'great hardware', 'your xbox', 'charger', 'cable tv', 'remote', \n",
    "                   'console', 'soldering', 'clearly used', 'stick broke', 'leaks after']\n",
    "\n",
    "filter_spanish = ['excelente', 'completamente', 'nuevo', 'descripción', 'juego', 'divertido', \n",
    "                  'llego', 'tiempo', 'completo', 'totalmente', 'recomendado', 'problema']\n",
    "\n",
    "filter = filter_hardware + filter_spanish\n",
    "\n",
    "def filter_hw_lang(row):\n",
    "    for item in filter:\n",
    "        if item in row:\n",
    "            return False\n",
    "    return True\n",
    "\n",
    "reviews = reviews[reviews['text'].apply(filter_hw_lang)]\n",
    "\n",
    "reviews.shape"
   ]
  },
  {
   "cell_type": "code",
   "execution_count": null,
   "metadata": {},
   "outputs": [],
   "source": [
    "# Replace patterns '<br />', '&#34;', '[[videoid', '[[ASIN:'\n",
    "\n",
    "patterns = r\"(<br\\s*/?>|&#34;|\\[\\[videoid|\\[\\[ASIN:)\"\n",
    "\n",
    "def remove_patterns(text):\n",
    "\tcleaned_text = re.sub(patterns, ' ', text)\n",
    "\treturn cleaned_text\n",
    "\n",
    "reviews['text'] = reviews['text'].apply(remove_patterns)"
   ]
  },
  {
   "cell_type": "markdown",
   "metadata": {},
   "source": [
    "### Save Game Reviews"
   ]
  },
  {
   "cell_type": "code",
   "execution_count": null,
   "metadata": {},
   "outputs": [],
   "source": [
    "# Reset index\n",
    "\n",
    "reviews.reset_index(drop = True)\n",
    "\n",
    "# Save cleaned game reviews\n",
    "\n",
    "reviews.to_csv('../data/reviews_cleaned.csv', index = False)"
   ]
  }
 ],
 "metadata": {
  "kernelspec": {
   "display_name": "Python 3",
   "language": "python",
   "name": "python3"
  },
  "language_info": {
   "codemirror_mode": {
    "name": "ipython",
    "version": 3
   },
   "file_extension": ".py",
   "mimetype": "text/x-python",
   "name": "python",
   "nbconvert_exporter": "python",
   "pygments_lexer": "ipython3",
   "version": "3.12.7"
  }
 },
 "nbformat": 4,
 "nbformat_minor": 2
}
